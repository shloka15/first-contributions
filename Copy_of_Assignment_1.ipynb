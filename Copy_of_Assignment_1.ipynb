{
  "nbformat": 4,
  "nbformat_minor": 0,
  "metadata": {
    "colab": {
      "provenance": [],
      "toc_visible": true,
      "include_colab_link": true
    },
    "kernelspec": {
      "name": "python3",
      "display_name": "Python 3"
    },
    "language_info": {
      "name": "python"
    }
  },
  "cells": [
    {
      "cell_type": "markdown",
      "metadata": {
        "id": "view-in-github",
        "colab_type": "text"
      },
      "source": [
        "<a href=\"https://colab.research.google.com/github/shloka15/first-contributions/blob/main/Copy_of_Assignment_1.ipynb\" target=\"_parent\"><img src=\"https://colab.research.google.com/assets/colab-badge.svg\" alt=\"Open In Colab\"/></a>"
      ]
    },
    {
      "cell_type": "markdown",
      "source": [
        "<center>\n",
        "<h1><strong> Computer Vision assignment </strong></h1>\n",
        "</center>"
      ],
      "metadata": {
        "id": "5gnVmnCuRVO6"
      }
    },
    {
      "cell_type": "markdown",
      "source": [
        "**This assignment will challenge your understanding of basic python programming paradigm and evaluate your intution of problem solving**\n",
        "\n",
        "- Make sure all the implementations are general and should work for any test case that we use\n",
        "\n",
        "\n"
      ],
      "metadata": {
        "id": "0zSwRgknRiQu"
      }
    },
    {
      "cell_type": "markdown",
      "source": [
        "## **Instructions :**"
      ],
      "metadata": {
        "id": "IRUoYr2u2Eeg"
      }
    },
    {
      "cell_type": "markdown",
      "source": [
        "\n",
        "- Make a copy of this Colab notebook (else any changes you make wont be saved)\n",
        "- Feel free to add more code blocks in between questions if you feel you need it\n"
      ],
      "metadata": {
        "id": "si5j_ygayB6p"
      }
    },
    {
      "cell_type": "markdown",
      "source": [
        "---\n",
        "## **Part 1: Python**"
      ],
      "metadata": {
        "id": "Zi29DVxm2Wek"
      }
    },
    {
      "cell_type": "markdown",
      "source": [
        "\n",
        "\n",
        "#### `Q1) Check if a given string is a palindrome`"
      ],
      "metadata": {
        "id": "PEUy0L1abA7z"
      }
    },
    {
      "cell_type": "code",
      "source": [
        "x=input(\"Enter a string:\")\n",
        "#write your code here\n",
        "a=list(x)\n",
        "b=a[::-1]\n",
        "flag=True\n",
        "for i in range(len(x)):\n",
        "    if a[i]==b[i]:\n",
        "        continue\n",
        "    else:\n",
        "        flag=False\n",
        "if flag==True:\n",
        "    print(f'{x} is a palindrome.')\n",
        "else:\n",
        "    print(f'{x} is not a palindrome.')\n"
      ],
      "metadata": {
        "id": "d2TGFIWM7w8Y",
        "outputId": "388f0c18-3cb0-4348-ab17-8590d5a89ecd",
        "colab": {
          "base_uri": "https://localhost:8080/"
        }
      },
      "execution_count": null,
      "outputs": [
        {
          "output_type": "stream",
          "name": "stdout",
          "text": [
            "Enter a string:abccba\n",
            "abccba is a palindrome.\n"
          ]
        }
      ]
    },
    {
      "cell_type": "markdown",
      "source": [
        "#### `Q2) Write a program to check if the two input strings are an anagram of eachother or not ` "
      ],
      "metadata": {
        "id": "zbU37-UUbWsU"
      }
    },
    {
      "cell_type": "code",
      "source": [
        "x,y=input(\"Enter two random words separated by a space:\").split()\n",
        "#write your code here\n",
        "flag=True\n",
        "for i in list(x):\n",
        "    if i in list(y):\n",
        "        list(x).remove(i)\n",
        "        list(y).remove(i)\n",
        "    else:\n",
        "        flag=False\n",
        "        break\n",
        "if flag==True:\n",
        "    print(f\"{x} and {y} are anagrams.\")\n",
        "else:\n",
        "    print(f\"{x} and {y} are not anagrams.\")\n",
        "\n"
      ],
      "metadata": {
        "id": "XRXZVbNjbUZ5",
        "outputId": "04991f44-a00e-4a30-ac7c-9672cdb571c6",
        "colab": {
          "base_uri": "https://localhost:8080/"
        }
      },
      "execution_count": null,
      "outputs": [
        {
          "output_type": "stream",
          "name": "stdout",
          "text": [
            "Enter two random words separated by a space:goa ago\n",
            "goa and ago are anagrams.\n"
          ]
        }
      ]
    },
    {
      "cell_type": "markdown",
      "source": [
        "#### `Q3) print all the duplicate letters in the string \"Electronics and Robotics club\"`"
      ],
      "metadata": {
        "id": "wpUP6XANbXh4"
      }
    },
    {
      "cell_type": "code",
      "source": [
        "#write your code here\n",
        "string=\"Electronics and Robotics club\"\n",
        "List1,List2=[],[]\n",
        "a=string.lower().split()\n",
        "print(\"Duplicate Letters Loading...\")\n",
        "for i in ''.join(a):\n",
        "    if i in List1 and i not in List2:\n",
        "        print(i)\n",
        "        List2.append(i)\n",
        "    else:\n",
        "        List1.append(i)"
      ],
      "metadata": {
        "id": "xsDdleNzbVI-",
        "outputId": "4a93455c-17e6-4a98-9c4f-a184dd5e9c9e",
        "colab": {
          "base_uri": "https://localhost:8080/"
        }
      },
      "execution_count": null,
      "outputs": [
        {
          "output_type": "stream",
          "name": "stdout",
          "text": [
            "Duplicate Letters Loading...\n",
            "e\n",
            "c\n",
            "n\n",
            "r\n",
            "o\n",
            "t\n",
            "i\n",
            "s\n",
            "l\n",
            "b\n"
          ]
        }
      ]
    },
    {
      "cell_type": "markdown",
      "source": [
        "#### `Q4) Given below is a list of dictionaries, create a new sorted list containing unique values from the dictionary elements.`\n",
        "\n",
        "> <em>dictionary_syntax = {key : value}</em>\n",
        "\n",
        "> <em>Essentially, create a unique list of all the values</em>"
      ],
      "metadata": {
        "id": "2yeBy0QCbbeE"
      }
    },
    {
      "cell_type": "code",
      "source": [
        "#Implement your solution on the given list of dictionaries, assume that this is a dummy test case - however your solution should work for all lists of dictionaries\n",
        "'''my_list=[\n",
        "     {\"first\":\"1\"}, \n",
        "     {\"second\": \"2\"}, \n",
        "     {\"third\": \"1\"}, \n",
        "     {\"four\": \"5\"}, \n",
        "     {\"five\":\"5\"}, \n",
        "     {\"six\":\"9\"},\n",
        "     {\"seven\":\"7\"}\n",
        "    ]'''\n",
        "# write your code here\n",
        "print(\"Let's make a list of single key-value pair dictionaries.\")\n",
        "print(\"Instead of directly making a dictionary with multiple key-value pairs.\")\n",
        "my_list=[]\n",
        "n=int(input(\"Enter the number of dictionaries:\"))\n",
        "for i in range(n):\n",
        "    DIC={}\n",
        "    a=input(\"Enter the key:\")\n",
        "    b=input(\"Enter the value:\")\n",
        "    DIC[a]=b\n",
        "    my_list.append(DIC)\n",
        "List=[]\n",
        "for dic in my_list:\n",
        "    for key in dic:\n",
        "        if dic[key] not in List:\n",
        "            List.append(dic[key])\n",
        "print(List)\n",
        "\n",
        "#expected solution [1,2,5,7,9]"
      ],
      "metadata": {
        "id": "H-JbYS7GbaMW",
        "outputId": "e70590a1-3d23-4041-aa59-112afa9ce5e5",
        "colab": {
          "base_uri": "https://localhost:8080/"
        }
      },
      "execution_count": null,
      "outputs": [
        {
          "output_type": "stream",
          "name": "stdout",
          "text": [
            "Let's make a list of single key-value pair dictionaries.\n",
            "Instead of directly making a dictionary with multiple key-value pairs.\n",
            "Enter the number of dictionaries:4\n",
            "Enter the key:a\n",
            "Enter the value:1\n",
            "Enter the key:b\n",
            "Enter the value:2\n",
            "Enter the key:c\n",
            "Enter the value:1\n",
            "Enter the key:d\n",
            "Enter the value:3\n",
            "['1', '2', '3']\n"
          ]
        }
      ]
    }
  ]
}